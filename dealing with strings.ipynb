{
 "cells": [
  {
   "cell_type": "markdown",
   "id": "80e51781",
   "metadata": {},
   "source": [
    "\n",
    "# working with strings"
   ]
  },
  {
   "cell_type": "code",
   "execution_count": 2,
   "id": "d2d9aaae",
   "metadata": {},
   "outputs": [
    {
     "name": "stdout",
     "output_type": "stream",
     "text": [
      "hello world\n"
     ]
    }
   ],
   "source": [
    "string = \"hello world\" # general declaration of string\n",
    "print(string)"
   ]
  },
  {
   "cell_type": "markdown",
   "id": "e7c36567",
   "metadata": {},
   "source": [
    "### with apostrophy"
   ]
  },
  {
   "cell_type": "code",
   "execution_count": 4,
   "id": "da159c38",
   "metadata": {},
   "outputs": [
    {
     "name": "stdout",
     "output_type": "stream",
     "text": [
      "hello tims's wife\n"
     ]
    }
   ],
   "source": [
    "print(\"hello tims's wife\") \n",
    "# always use the double quotes to sorround the string in which you need to use the single quote or apostropy\n"
   ]
  },
  {
   "cell_type": "markdown",
   "id": "301a6bdc",
   "metadata": {},
   "source": [
    "### with double quotes"
   ]
  },
  {
   "cell_type": "code",
   "execution_count": 5,
   "id": "53e56a07",
   "metadata": {},
   "outputs": [
    {
     "name": "stdout",
     "output_type": "stream",
     "text": [
      "\"i will code until some one says that yes,\" Davis answered the lecturer\n"
     ]
    }
   ],
   "source": [
    "# when there is a need to add the double quotes inside a string, then use the single quotes\n",
    "print('\"i will code until some one says that yes,\" Davis answered the lecturer')"
   ]
  },
  {
   "cell_type": "code",
   "execution_count": null,
   "id": "92eeda20",
   "metadata": {},
   "outputs": [],
   "source": []
  }
 ],
 "metadata": {
  "kernelspec": {
   "display_name": "Python 3 (ipykernel)",
   "language": "python",
   "name": "python3"
  },
  "language_info": {
   "codemirror_mode": {
    "name": "ipython",
    "version": 3
   },
   "file_extension": ".py",
   "mimetype": "text/x-python",
   "name": "python",
   "nbconvert_exporter": "python",
   "pygments_lexer": "ipython3",
   "version": "3.9.13"
  }
 },
 "nbformat": 4,
 "nbformat_minor": 5
}
