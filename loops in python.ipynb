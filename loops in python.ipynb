{
 "cells": [
  {
   "cell_type": "markdown",
   "id": "4e416e3b",
   "metadata": {},
   "source": [
    "## loops in python"
   ]
  },
  {
   "cell_type": "markdown",
   "id": "ec5dc2e3",
   "metadata": {},
   "source": [
    "### while loop"
   ]
  },
  {
   "cell_type": "code",
   "execution_count": 1,
   "id": "40358a7c",
   "metadata": {},
   "outputs": [
    {
     "name": "stdout",
     "output_type": "stream",
     "text": [
      "enter a multiple of 7: 2\n",
      "enter a multiple of 7: 42\n",
      "number 42has been successfully captured\n"
     ]
    }
   ],
   "source": [
    "val = int(input(\"enter a multiple of 7: \"))\n",
    "while val%7 !=0:\n",
    "    val = int(input(\"enter a multiple of 7: \"))\n",
    "else:\n",
    "    print(\"number {}has been successfully captured\".format(val))"
   ]
  },
  {
   "cell_type": "markdown",
   "id": "bb38cf55",
   "metadata": {},
   "source": [
    "### for loop"
   ]
  },
  {
   "cell_type": "code",
   "execution_count": 2,
   "id": "ebad21b1",
   "metadata": {},
   "outputs": [
    {
     "name": "stdout",
     "output_type": "stream",
     "text": [
      "a i like 1 "
     ]
    }
   ],
   "source": [
    "list = ['a', 'i', 'like', '1']\n",
    "for i in list:\n",
    "    print(i, end=\" \")"
   ]
  },
  {
   "cell_type": "markdown",
   "id": "5c879bf4",
   "metadata": {},
   "source": [
    "### using continue key word"
   ]
  },
  {
   "cell_type": "code",
   "execution_count": 2,
   "id": "2ec925bd",
   "metadata": {},
   "outputs": [
    {
     "name": "stdout",
     "output_type": "stream",
     "text": [
      "1 ,3 ,13 ,"
     ]
    }
   ],
   "source": [
    "list_of_numbers = [1,45,21, 38, 3, 13,]\n",
    "for i in list_of_numbers:\n",
    "    if i>20:\n",
    "        continue\n",
    "    print(i, ',', end=\"\")"
   ]
  },
  {
   "cell_type": "code",
   "execution_count": null,
   "id": "0aa649ec",
   "metadata": {},
   "outputs": [],
   "source": []
  }
 ],
 "metadata": {
  "kernelspec": {
   "display_name": "Python 3 (ipykernel)",
   "language": "python",
   "name": "python3"
  },
  "language_info": {
   "codemirror_mode": {
    "name": "ipython",
    "version": 3
   },
   "file_extension": ".py",
   "mimetype": "text/x-python",
   "name": "python",
   "nbconvert_exporter": "python",
   "pygments_lexer": "ipython3",
   "version": "3.9.13"
  }
 },
 "nbformat": 4,
 "nbformat_minor": 5
}
