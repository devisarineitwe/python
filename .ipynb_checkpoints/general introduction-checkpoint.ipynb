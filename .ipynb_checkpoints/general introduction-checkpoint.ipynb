{
 "cells": [
  {
   "cell_type": "markdown",
   "id": "ee397048",
   "metadata": {},
   "source": [
    "<h1>operations on strings</h1>"
   ]
  },
  {
   "cell_type": "code",
   "execution_count": 1,
   "id": "30a608e5",
   "metadata": {},
   "outputs": [
    {
     "name": "stdout",
     "output_type": "stream",
     "text": [
      "aaaaaaaaaa\n"
     ]
    }
   ],
   "source": [
    "z= \"a\"\n",
    "print(z*10)"
   ]
  },
  {
   "cell_type": "code",
   "execution_count": 3,
   "id": "73379808",
   "metadata": {},
   "outputs": [],
   "source": [
    "lista = ['a', 'b',]\n"
   ]
  },
  {
   "cell_type": "code",
   "execution_count": 4,
   "id": "43bc7581",
   "metadata": {},
   "outputs": [],
   "source": [
    "listb = ['here', 'iam', 'coding']"
   ]
  },
  {
   "cell_type": "code",
   "execution_count": 5,
   "id": "51b9d9db",
   "metadata": {},
   "outputs": [],
   "source": [
    "conct = lista + listb"
   ]
  },
  {
   "cell_type": "code",
   "execution_count": 4,
   "id": "c3f54785",
   "metadata": {},
   "outputs": [
    {
     "name": "stdout",
     "output_type": "stream",
     "text": [
      "['a', 'b', 'here', 'iam', 'coding']\n"
     ]
    }
   ],
   "source": [
    "print(conct)"
   ]
  },
  {
   "cell_type": "code",
   "execution_count": 6,
   "id": "d54fcbd1",
   "metadata": {},
   "outputs": [
    {
     "name": "stdout",
     "output_type": "stream",
     "text": [
      "['coding', 'iam', 'here', 'b', 'a']\n",
      "['coding']\n"
     ]
    }
   ],
   "source": [
    "print(conct[::-1])\n",
    "print(conct[-1::])"
   ]
  },
  {
   "cell_type": "code",
   "execution_count": 9,
   "id": "fe5091bc",
   "metadata": {},
   "outputs": [
    {
     "name": "stdout",
     "output_type": "stream",
     "text": [
      "['b', 'here', 'iam', 'coding']\n"
     ]
    }
   ],
   "source": [
    "print(conct[1:])"
   ]
  },
  {
   "cell_type": "code",
   "execution_count": 8,
   "id": "94692baf",
   "metadata": {},
   "outputs": [
    {
     "name": "stdout",
     "output_type": "stream",
     "text": [
      "['a']\n"
     ]
    }
   ],
   "source": [
    "print(conct[:1])"
   ]
  },
  {
   "cell_type": "code",
   "execution_count": 10,
   "id": "187fc709",
   "metadata": {},
   "outputs": [
    {
     "name": "stdout",
     "output_type": "stream",
     "text": [
      "['a', 'here', 'coding']\n"
     ]
    }
   ],
   "source": [
    "print(conct[::2])"
   ]
  },
  {
   "cell_type": "code",
   "execution_count": 6,
   "id": "fb5a9d4c",
   "metadata": {},
   "outputs": [],
   "source": [
    "listc = ['i', 'like','mango', 'and', 'other', 'fruits']\n",
    "newconct = conct + listc"
   ]
  },
  {
   "cell_type": "code",
   "execution_count": 7,
   "id": "c4a86baf",
   "metadata": {},
   "outputs": [
    {
     "name": "stdout",
     "output_type": "stream",
     "text": [
      "['a', 'b', 'here', 'iam', 'coding', 'i', 'like', 'mango', 'and', 'other', 'fruits']\n"
     ]
    }
   ],
   "source": [
    "print(newconct)"
   ]
  },
  {
   "cell_type": "code",
   "execution_count": 17,
   "id": "66743837",
   "metadata": {},
   "outputs": [
    {
     "name": "stdout",
     "output_type": "stream",
     "text": [
      "['here', 'iam', 'coding', 'i', 'like', 'mango', 'and', 'other', 'fruits']\n"
     ]
    }
   ],
   "source": [
    "print(newconct[2::])"
   ]
  },
  {
   "cell_type": "code",
   "execution_count": 9,
   "id": "c3dadb66",
   "metadata": {},
   "outputs": [
    {
     "ename": "SyntaxError",
     "evalue": "invalid syntax (3073096109.py, line 3)",
     "output_type": "error",
     "traceback": [
      "\u001b[1;36m  Cell \u001b[1;32mIn [9], line 3\u001b[1;36m\u001b[0m\n\u001b[1;33m    print(newconct[2::3::6])\u001b[0m\n\u001b[1;37m                       ^\u001b[0m\n\u001b[1;31mSyntaxError\u001b[0m\u001b[1;31m:\u001b[0m invalid syntax\n"
     ]
    }
   ],
   "source": [
    "print(newconct[2::3])\n",
    "print(newconct[2:3])\n",
    "print(newconct[2::3::6])"
   ]
  },
  {
   "cell_type": "code",
   "execution_count": 8,
   "id": "8fd74606",
   "metadata": {},
   "outputs": [
    {
     "name": "stdout",
     "output_type": "stream",
     "text": [
      "['a', 'b', 'here', 'iam', 'coding', 'i', 'like', 'mango', 'and', 'other', 'fruits']\n"
     ]
    }
   ],
   "source": [
    "print(newconct)"
   ]
  },
  {
   "cell_type": "code",
   "execution_count": 10,
   "id": "b51bf3c3",
   "metadata": {},
   "outputs": [
    {
     "name": "stdout",
     "output_type": "stream",
     "text": [
      "a\n",
      "b\n",
      "here\n",
      "iam\n",
      "coding\n",
      "i\n",
      "like\n",
      "mango\n",
      "and\n",
      "other\n",
      "fruits\n"
     ]
    }
   ],
   "source": [
    "for item in newconct:\n",
    "    print(item)"
   ]
  },
  {
   "cell_type": "code",
   "execution_count": 11,
   "id": "b5eb2a8f",
   "metadata": {},
   "outputs": [],
   "source": [
    "newconct.append([\"dont\", \"forget\", \"my\", \"name\", \"davis\"])"
   ]
  },
  {
   "cell_type": "code",
   "execution_count": 12,
   "id": "d2353232",
   "metadata": {},
   "outputs": [
    {
     "name": "stdout",
     "output_type": "stream",
     "text": [
      "['a', 'b', 'here', 'iam', 'coding', 'i', 'like', 'mango', 'and', 'other', 'fruits', ['dont', 'forget', 'my', 'name', 'davis']]\n"
     ]
    }
   ],
   "source": [
    "print(newconct)"
   ]
  },
  {
   "cell_type": "code",
   "execution_count": null,
   "id": "c3054791",
   "metadata": {},
   "outputs": [],
   "source": [
    "\n",
    "counter = 0\n",
    "condition = \"true\"\n",
    "\n",
    "while condition == \"true\":\n",
    "    counter+=1\n",
    "    print(\"hello world\")\n",
    "    if counter >= 6:\n",
    "        condition = \"false\"\n",
    "   \n",
    "    \n",
    "\n",
    "        "
   ]
  },
  {
   "cell_type": "code",
   "execution_count": null,
   "id": "a9ddcbad",
   "metadata": {},
   "outputs": [],
   "source": []
  }
 ],
 "metadata": {
  "kernelspec": {
   "display_name": "Python 3 (ipykernel)",
   "language": "python",
   "name": "python3"
  },
  "language_info": {
   "codemirror_mode": {
    "name": "ipython",
    "version": 3
   },
   "file_extension": ".py",
   "mimetype": "text/x-python",
   "name": "python",
   "nbconvert_exporter": "python",
   "pygments_lexer": "ipython3",
   "version": "3.9.13"
  }
 },
 "nbformat": 4,
 "nbformat_minor": 5
}
