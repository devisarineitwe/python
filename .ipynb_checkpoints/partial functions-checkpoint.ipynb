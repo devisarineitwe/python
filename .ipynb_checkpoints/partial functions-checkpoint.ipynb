{
 "cells": [
  {
   "cell_type": "markdown",
   "id": "7615a427",
   "metadata": {},
   "source": [
    "# partial functions"
   ]
  },
  {
   "cell_type": "markdown",
   "id": "bdfc7954",
   "metadata": {},
   "source": [
    "uncorrect way of representing partial function"
   ]
  },
  {
   "cell_type": "code",
   "execution_count": 1,
   "id": "381d7a0b",
   "metadata": {},
   "outputs": [],
   "source": [
    "def power(base, exponent):\n",
    "    print(f'{base} exponent {exponent} = {base**exponent}')\n",
    "    return base**exponent"
   ]
  },
  {
   "cell_type": "code",
   "execution_count": 4,
   "id": "789b9f19",
   "metadata": {},
   "outputs": [
    {
     "name": "stdout",
     "output_type": "stream",
     "text": [
      "4 exponent 2 = 16\n",
      "16\n",
      "5 exponent 3 = 125\n",
      "125\n"
     ]
    }
   ],
   "source": [
    "def square(base):\n",
    "    return power(base, 2)\n",
    "print(square(4))\n",
    "\n",
    "def cube(base, exponent=3):\n",
    "    return power(base, exponent)\n",
    "print(cube(5))"
   ]
  },
  {
   "cell_type": "markdown",
   "id": "e529d31c",
   "metadata": {},
   "source": [
    "# The following is the correct way of doing these things"
   ]
  },
  {
   "cell_type": "code",
   "execution_count": 1,
   "id": "455b66fc",
   "metadata": {},
   "outputs": [],
   "source": [
    "def power(base, exponent):\n",
    "    print(\"{}: exponent {} = {}\".format(base, exponent, base**exponent))\n",
    "    return base**exponent"
   ]
  },
  {
   "cell_type": "code",
   "execution_count": 3,
   "id": "31e3caae",
   "metadata": {},
   "outputs": [
    {
     "name": "stdout",
     "output_type": "stream",
     "text": [
      "2: exponent 3 = 8\n",
      "5: exponent 3 = 125\n",
      "2: exponent 4 = 16\n"
     ]
    },
    {
     "data": {
      "text/plain": [
       "16"
      ]
     },
     "execution_count": 3,
     "metadata": {},
     "output_type": "execute_result"
    }
   ],
   "source": [
    "from functools import partial\n",
    "square = partial(power, exponent=2)\n",
    "cube = partial(power, exponent=3)\n",
    "quadsquare = partial(power, exponent=4)\n",
    "cube(2)\n",
    "cube(5)\n",
    "quadsquare(2)"
   ]
  }
 ],
 "metadata": {
  "kernelspec": {
   "display_name": "Python 3 (ipykernel)",
   "language": "python",
   "name": "python3"
  },
  "language_info": {
   "codemirror_mode": {
    "name": "ipython",
    "version": 3
   },
   "file_extension": ".py",
   "mimetype": "text/x-python",
   "name": "python",
   "nbconvert_exporter": "python",
   "pygments_lexer": "ipython3",
   "version": "3.9.13"
  }
 },
 "nbformat": 4,
 "nbformat_minor": 5
}
