{
 "cells": [
  {
   "cell_type": "markdown",
   "id": "23207025",
   "metadata": {},
   "source": [
    "# The pickle module"
   ]
  },
  {
   "cell_type": "markdown",
   "id": "58ca8b07",
   "metadata": {},
   "source": [
    "The pickle module is basically used for dumping and retrieving information in form of a dictionary from a text file "
   ]
  },
  {
   "cell_type": "code",
   "execution_count": 3,
   "id": "c88e8232",
   "metadata": {},
   "outputs": [],
   "source": [
    "import pickle"
   ]
  },
  {
   "cell_type": "markdown",
   "id": "4e8ed6ea",
   "metadata": {},
   "source": [
    "<h1>EXAMPLE 1</h1> "
   ]
  },
  {
   "cell_type": "markdown",
   "id": "ffa52804",
   "metadata": {},
   "source": [
    "# Adding information to the file"
   ]
  },
  {
   "cell_type": "code",
   "execution_count": 2,
   "id": "852121d5",
   "metadata": {},
   "outputs": [],
   "source": [
    "f = open('test.txt', 'wb')\n",
    "dct = {'name':'devis', 'gender':'male', 'age':20, 'mark':60}\n",
    "pickle.dump(dct, f)\n",
    "f.close()"
   ]
  },
  {
   "cell_type": "markdown",
   "id": "4cb3f512",
   "metadata": {},
   "source": [
    "# Retrieving information from the file"
   ]
  },
  {
   "cell_type": "code",
   "execution_count": 3,
   "id": "3aac766a",
   "metadata": {},
   "outputs": [
    {
     "name": "stdout",
     "output_type": "stream",
     "text": [
      "{'name': 'devis', 'gender': 'male', 'age': 20, 'mark': 60}\n"
     ]
    }
   ],
   "source": [
    "f = open(\"test.txt\", \"rb\")\n",
    "dct = pickle.load(f)\n",
    "print(dct)\n",
    "f.close()"
   ]
  },
  {
   "cell_type": "markdown",
   "id": "705b4cc8",
   "metadata": {},
   "source": [
    "<h1> EXAMPLE II</h1>"
   ]
  },
  {
   "cell_type": "code",
   "execution_count": 1,
   "id": "344f7c3d",
   "metadata": {},
   "outputs": [
    {
     "name": "stdout",
     "output_type": "stream",
     "text": [
      "{'devis': {'key': 'devis', 'name': 'devis', 'age': 22, 'is_male': True}, 'grace': {'key': 'grace', 'name': 'grace', 'age': 23, 'is_male': False}}\n"
     ]
    }
   ],
   "source": [
    "devis = {'key': 'devis', 'name': 'devis', 'age': 22, 'is_male': True}\n",
    "grace = {'key': 'grace', 'name': 'grace', 'age':23, 'is_male': False}\n",
    "db = {}\n",
    "db['devis'] = devis\n",
    "db['grace'] = grace\n",
    "print(db)\n"
   ]
  },
  {
   "cell_type": "code",
   "execution_count": 6,
   "id": "cc83e6a5",
   "metadata": {},
   "outputs": [],
   "source": [
    "file_ = open('db.txt', 'wb')\n",
    "pickle.dump(db, file_)\n",
    "file_.close()"
   ]
  },
  {
   "cell_type": "code",
   "execution_count": 7,
   "id": "f8aade90",
   "metadata": {},
   "outputs": [
    {
     "data": {
      "text/plain": [
       "{'devis': {'key': 'devis', 'name': 'devis', 'age': 22, 'is_male': True},\n",
       " 'grace': {'key': 'grace', 'name': 'grace', 'age': 23, 'is_male': False}}"
      ]
     },
     "execution_count": 7,
     "metadata": {},
     "output_type": "execute_result"
    }
   ],
   "source": [
    "file_ = open('db.txt', 'rb')\n",
    "db = pickle.load(file_)\n",
    "file_.close()\n",
    "db\n",
    "\n"
   ]
  },
  {
   "cell_type": "code",
   "execution_count": null,
   "id": "3bce17c4",
   "metadata": {},
   "outputs": [],
   "source": []
  }
 ],
 "metadata": {
  "kernelspec": {
   "display_name": "Python 3 (ipykernel)",
   "language": "python",
   "name": "python3"
  },
  "language_info": {
   "codemirror_mode": {
    "name": "ipython",
    "version": 3
   },
   "file_extension": ".py",
   "mimetype": "text/x-python",
   "name": "python",
   "nbconvert_exporter": "python",
   "pygments_lexer": "ipython3",
   "version": "3.9.13"
  }
 },
 "nbformat": 4,
 "nbformat_minor": 5
}
