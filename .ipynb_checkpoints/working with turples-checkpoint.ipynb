{
 "cells": [
  {
   "cell_type": "markdown",
   "id": "7b7d1213",
   "metadata": {},
   "source": [
    "<h1> work with tourples</h1>"
   ]
  },
  {
   "cell_type": "markdown",
   "id": "c8249060",
   "metadata": {},
   "source": [
    "## declarations of the touples"
   ]
  },
  {
   "cell_type": "code",
   "execution_count": 3,
   "id": "dde3cf26",
   "metadata": {},
   "outputs": [
    {
     "name": "stdout",
     "output_type": "stream",
     "text": [
      "iam coding\n"
     ]
    }
   ],
   "source": [
    "tpl1 = \"iam\", \"coding\"\n",
    "a,b = tpl1\n",
    "print(a, b)"
   ]
  },
  {
   "cell_type": "markdown",
   "id": "446bffe1",
   "metadata": {},
   "source": []
  },
  {
   "cell_type": "markdown",
   "id": "6fe2a702",
   "metadata": {},
   "source": [
    "## a touple with lists"
   ]
  },
  {
   "cell_type": "code",
   "execution_count": null,
   "id": "21860dfc",
   "metadata": {},
   "outputs": [],
   "source": []
  }
 ],
 "metadata": {
  "kernelspec": {
   "display_name": "Python 3 (ipykernel)",
   "language": "python",
   "name": "python3"
  },
  "language_info": {
   "codemirror_mode": {
    "name": "ipython",
    "version": 3
   },
   "file_extension": ".py",
   "mimetype": "text/x-python",
   "name": "python",
   "nbconvert_exporter": "python",
   "pygments_lexer": "ipython3",
   "version": "3.9.13"
  }
 },
 "nbformat": 4,
 "nbformat_minor": 5
}
