{
 "cells": [
  {
   "cell_type": "code",
   "execution_count": 4,
   "id": "c6ea9920",
   "metadata": {},
   "outputs": [],
   "source": [
    "import re"
   ]
  },
  {
   "cell_type": "markdown",
   "id": "db46f547",
   "metadata": {},
   "source": [
    "### The sale will search for a 5 character string that starts with a d and ends with an s"
   ]
  },
  {
   "cell_type": "code",
   "execution_count": 5,
   "id": "5a6ddab4",
   "metadata": {},
   "outputs": [
    {
     "name": "stdout",
     "output_type": "stream",
     "text": [
      "<re.Match object; span=(0, 5), match='devis'>\n",
      "None\n",
      "None\n",
      "None\n"
     ]
    }
   ],
   "source": [
    "pattern = '^d...s$'\n",
    "print(re.search(pattern, 'devis')) # match its a 5 letter word starting with d and ending with s\n",
    "print(re.search(pattern, 'drakesi')) # not a match because it does not end with s\n",
    "print(re.search(pattern, 'africans')) # not a match because its not starting with a\n",
    "print(re.search(pattern, 'damsons')) # not a match because it is not a 5 character string\n"
   ]
  },
  {
   "cell_type": "code",
   "execution_count": 9,
   "id": "f619fdd0",
   "metadata": {},
   "outputs": [],
   "source": [
    "string = 'http://www.africa.com'\n",
    "re.search(r'/m', string)"
   ]
  },
  {
   "cell_type": "code",
   "execution_count": null,
   "id": "4e39636f",
   "metadata": {},
   "outputs": [],
   "source": []
  }
 ],
 "metadata": {
  "kernelspec": {
   "display_name": "Python 3 (ipykernel)",
   "language": "python",
   "name": "python3"
  },
  "language_info": {
   "codemirror_mode": {
    "name": "ipython",
    "version": 3
   },
   "file_extension": ".py",
   "mimetype": "text/x-python",
   "name": "python",
   "nbconvert_exporter": "python",
   "pygments_lexer": "ipython3",
   "version": "3.9.13"
  }
 },
 "nbformat": 4,
 "nbformat_minor": 5
}
