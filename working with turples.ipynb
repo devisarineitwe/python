{
 "cells": [
  {
   "cell_type": "markdown",
   "id": "7b7d1213",
   "metadata": {},
   "source": [
    "<h1> work with tourples</h1>"
   ]
  },
  {
   "cell_type": "markdown",
   "id": "c8249060",
   "metadata": {},
   "source": [
    "## declarations of the touples"
   ]
  },
  {
   "cell_type": "code",
   "execution_count": 3,
   "id": "dde3cf26",
   "metadata": {},
   "outputs": [
    {
     "name": "stdout",
     "output_type": "stream",
     "text": [
      "iam coding\n"
     ]
    }
   ],
   "source": [
    "tpl1 = \"iam\", \"coding\"\n",
    "a,b = tpl1\n",
    "print(a, b)"
   ]
  },
  {
   "cell_type": "markdown",
   "id": "055d29f5",
   "metadata": {},
   "source": []
  },
  {
   "cell_type": "markdown",
   "id": "e26c5758",
   "metadata": {},
   "source": [
    "## a touple with lists"
   ]
  },
  {
   "cell_type": "code",
   "execution_count": 10,
   "id": "6fc180d2",
   "metadata": {},
   "outputs": [
    {
     "name": "stdout",
     "output_type": "stream",
     "text": [
      "5  and  5\n"
     ]
    }
   ],
   "source": [
    "turple = ([1, 2, 3, 4, 5], ['a', 'b', 'c', 'd', 'e'])\n",
    "print(len(turple[0]),' and ', len(turple[1]))"
   ]
  },
  {
   "cell_type": "markdown",
   "id": "a6bf2ab3",
   "metadata": {},
   "source": [
    "## slicing the turple"
   ]
  },
  {
   "cell_type": "code",
   "execution_count": 1,
   "id": "0d23bd6b",
   "metadata": {},
   "outputs": [
    {
     "name": "stdout",
     "output_type": "stream",
     "text": [
      "('a', 'b', 'c', 'd', 'e', 'f', 'g', 'h', 'i', 'g')\n",
      "('b', 'c', 'd', 'e', 'f', 'g', 'h', 'i', 'g')\n",
      "('b', 'f', 'g')\n",
      "['a']\n"
     ]
    }
   ],
   "source": [
    "turple1 = ('a', 'b', 'c', 'd', 'e', 'f', 'g', 'h', 'i', 'g')\n",
    "list1 = ['a', 'b', 'c', 'd', 'e', 'f', 'g', 'h', 'i', 'g']\n",
    "print(turple1)\n",
    "print(turple1[1::])#starts from the the element in position 1\n",
    "print(turple1[1::4]) #starts on the position one to position 4\n",
    "print(list1[:2:9]) # starts in the oth index to 9 skipint every second characters"
   ]
  },
  {
   "cell_type": "code",
   "execution_count": null,
   "id": "42c1aa25",
   "metadata": {},
   "outputs": [],
   "source": []
  }
 ],
 "metadata": {
  "kernelspec": {
   "display_name": "Python 3 (ipykernel)",
   "language": "python",
   "name": "python3"
  },
  "language_info": {
   "codemirror_mode": {
    "name": "ipython",
    "version": 3
   },
   "file_extension": ".py",
   "mimetype": "text/x-python",
   "name": "python",
   "nbconvert_exporter": "python",
   "pygments_lexer": "ipython3",
   "version": "3.9.13"
  }
 },
 "nbformat": 4,
 "nbformat_minor": 5
}
