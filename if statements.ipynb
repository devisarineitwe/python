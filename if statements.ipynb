{
 "cells": [
  {
   "cell_type": "code",
   "execution_count": 3,
   "id": "e7e4b891",
   "metadata": {},
   "outputs": [
    {
     "name": "stdout",
     "output_type": "stream",
     "text": [
      "the number is even grater than 25\n"
     ]
    }
   ],
   "source": [
    "c = 40\n",
    "if c<25:\n",
    "    if c%2 == 0:\n",
    "        print(\"the number is even less than 25\")\n",
    "    else:\n",
    "        print(\"the number is odd less than 25\")\n",
    "else:\n",
    "    if c%2 == 0:\n",
    "        print(\"the number is even grater than 25\")\n",
    "    else:\n",
    "        print(\"the number is odd grater than 25\")"
   ]
  },
  {
   "cell_type": "code",
   "execution_count": 6,
   "id": "9cdf5120",
   "metadata": {},
   "outputs": [
    {
     "name": "stdout",
     "output_type": "stream",
     "text": [
      "the letter . is a number\n"
     ]
    }
   ],
   "source": [
    "letter = '.'\n",
    "if letter in ['a', 'e', 'i', 'o', 'u']:\n",
    "    print(\"the letter {} is a vowel\".format(letter))\n",
    "elif letter in ['b', 'c', 'd', 'f','g', 'h', 'j', 'k', 'l', 'm', 'n', 'p', 'q', 'r', 's', 't', 'v', 'w', 'x', 'y', 'z']:\n",
    "    print(\"the letter {} is a consonant\".format(letter))\n",
    "else:\n",
    "    print(\"the letter {} is a number\".format(letter))"
   ]
  },
  {
   "cell_type": "code",
   "execution_count": null,
   "id": "b4a826b1",
   "metadata": {},
   "outputs": [],
   "source": []
  }
 ],
 "metadata": {
  "kernelspec": {
   "display_name": "Python 3 (ipykernel)",
   "language": "python",
   "name": "python3"
  },
  "language_info": {
   "codemirror_mode": {
    "name": "ipython",
    "version": 3
   },
   "file_extension": ".py",
   "mimetype": "text/x-python",
   "name": "python",
   "nbconvert_exporter": "python",
   "pygments_lexer": "ipython3",
   "version": "3.9.13"
  }
 },
 "nbformat": 4,
 "nbformat_minor": 5
}
